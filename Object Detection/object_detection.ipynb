{
 "cells": [
  {
   "cell_type": "markdown",
   "source": [
    "# 3. OPENCV Object Detection\n",
    "\n",
    "![](../Tutorial/images/salt-pepper.png)\n",
    "\n",
    "<hr>\n",
    "\n",
    "### Content\n",
    "> I. [Frontal Face Detection](#face_detection)\n",
    "II. [Eye Detection](#eye_detection)\n",
    "III. [Smile Detection](#smile_detection)\n",
    "IV. [Face-Eye-Smile Detection](#face_eye_smile_detection)\n",
    "V. [Face Lines Extraction - Charcoal drawing](#charcoal)\n",
    "VI. [Skin Color Detection](#skin)\n",
    "<hr>\n",
    "\n",
    "\n",
    "[Data Link](https://github.com/opencv/opencv/tree/master/data/haarcascades)"
   ],
   "metadata": {
    "collapsed": false
   }
  },
  {
   "cell_type": "code",
   "execution_count": 1,
   "metadata": {
    "collapsed": true
   },
   "outputs": [],
   "source": [
    "import cv2\n",
    "import numpy as np\n",
    "from utils import *\n",
    "import imutils\n",
    "from collections import deque"
   ]
  },
  {
   "cell_type": "markdown",
   "source": [
    "# I. Object Tracking"
   ],
   "metadata": {
    "collapsed": false
   }
  },
  {
   "cell_type": "markdown",
   "source": [
    "Easiest way to tracking an object is to tracking it's color"
   ],
   "metadata": {
    "collapsed": false
   }
  },
  {
   "cell_type": "code",
   "execution_count": 2,
   "outputs": [
    {
     "ename": "KeyboardInterrupt",
     "evalue": "",
     "output_type": "error",
     "traceback": [
      "\u001B[1;31m---------------------------------------------------------------------------\u001B[0m",
      "\u001B[1;31mKeyboardInterrupt\u001B[0m                         Traceback (most recent call last)",
      "\u001B[1;32m~\\AppData\\Local\\Temp/ipykernel_19300/1020621928.py\u001B[0m in \u001B[0;36m<module>\u001B[1;34m\u001B[0m\n\u001B[0;32m     18\u001B[0m \u001B[1;33m\u001B[0m\u001B[0m\n\u001B[0;32m     19\u001B[0m \u001B[1;32mwhile\u001B[0m \u001B[1;32mTrue\u001B[0m\u001B[1;33m:\u001B[0m\u001B[1;33m\u001B[0m\u001B[1;33m\u001B[0m\u001B[0m\n\u001B[1;32m---> 20\u001B[1;33m     \u001B[0mret\u001B[0m\u001B[1;33m,\u001B[0m \u001B[0mframe\u001B[0m \u001B[1;33m=\u001B[0m \u001B[0mcam\u001B[0m\u001B[1;33m.\u001B[0m\u001B[0mread\u001B[0m\u001B[1;33m(\u001B[0m\u001B[1;33m)\u001B[0m     \u001B[1;31m# ret is a boolean variable that returns true if the frame is available.\u001B[0m\u001B[1;33m\u001B[0m\u001B[1;33m\u001B[0m\u001B[0m\n\u001B[0m\u001B[0;32m     21\u001B[0m     \u001B[1;32mif\u001B[0m \u001B[0mlen\u001B[0m\u001B[1;33m(\u001B[0m\u001B[0mvideo_filename\u001B[0m\u001B[1;33m)\u001B[0m \u001B[1;33m>\u001B[0m \u001B[1;36m0\u001B[0m \u001B[1;32mand\u001B[0m \u001B[1;32mnot\u001B[0m \u001B[0mret\u001B[0m\u001B[1;33m:\u001B[0m \u001B[1;32mbreak\u001B[0m   \u001B[1;31m# EOF\u001B[0m\u001B[1;33m\u001B[0m\u001B[1;33m\u001B[0m\u001B[0m\n\u001B[0;32m     22\u001B[0m \u001B[1;33m\u001B[0m\u001B[0m\n",
      "\u001B[1;31mKeyboardInterrupt\u001B[0m: "
     ]
    }
   ],
   "source": [
    "video_filename = ''   ## TODO\n",
    "width = 600\n",
    "ONLY_MAX = True\n",
    "GREEN = ((29, 86, 6), (64, 255, 255))\n",
    "RED = ((139, 0, 0), (255, 160, 122))\n",
    "BLUE = ((110, 50, 50), (130, 255, 255))\n",
    "ORANGE = ((160, 100, 47), (179, 255, 255))\n",
    "YELLOW = ((10, 100, 100), (40, 255, 255))\n",
    "bottom_color, top_color = BLUE\n",
    "if len(video_filename) == 0:\n",
    "    cam = cv2.VideoCapture(0)   # Default cam\n",
    "\n",
    "else:\n",
    "    cam = cv2.VideoCapture(video_filename)      # Read from the video file\n",
    "\n",
    "cv2.namedWindow('Frame')\n",
    "cv2.namedWindow('Mask')\n",
    "\n",
    "while True:\n",
    "    ret, frame = cam.read()     # ret is a boolean variable that returns true if the frame is available.\n",
    "    if len(video_filename) > 0 and not ret: break   # EOF\n",
    "\n",
    "    frame = imutils.resize(frame, width=width)\n",
    "    hsv = cv2.GaussianBlur(frame, (25, 25), 0)\n",
    "    hvs = cv2.cvtColor(hsv, cv2.COLOR_BGR2HSV)\n",
    "\n",
    "    mask = cv2.inRange(hsv, bottom_color, top_color)\n",
    "\n",
    "    mask = cv2.morphologyEx(mask, cv2.MORPH_OPEN, np.ones((3,3), np.uint8))   # Uses dilate and erode\n",
    "\n",
    "    mask = cv2.erode(mask, None, iterations=10)\n",
    "    mask = cv2.dilate(mask, None, iterations=10)\n",
    "\n",
    "    copy = mask.copy()\n",
    "\n",
    "    contours = cv2.findContours(copy, cv2.RETR_EXTERNAL, cv2.CHAIN_APPROX_SIMPLE) [-2]\n",
    "\n",
    "    if len(contours) > 0:\n",
    "        for contour in contours:\n",
    "            cmax = max(contours, key=cv2.contourArea)\n",
    "            if ONLY_MAX:\n",
    "                (x, y), radius = cv2.minEnclosingCircle(cmax)\n",
    "            else:\n",
    "                (x, y), radius = cv2.minEnclosingCircle(contour)\n",
    "            if radius >= 10:\n",
    "                cv2.circle(frame, (int(x), int(y)),\n",
    "                           int(radius), (0, 0, 255), 4)\n",
    "\n",
    "    cv2.imshow('Frame', frame)\n",
    "    cv2.imshow('Mask', mask)\n",
    "\n",
    "    key = cv2.waitKey(5) & 0xFF\n",
    "    if key == 27 or key == ord('q'): break\n",
    "\n",
    "if cam.isOpened():\n",
    "    cam.release()\n",
    "cv2.destroyAllWindows()"
   ],
   "metadata": {
    "collapsed": false,
    "pycharm": {
     "name": "#%%\n"
    }
   }
  },
  {
   "cell_type": "markdown",
   "source": [
    "# II. Adding Tail to This Object"
   ],
   "metadata": {
    "collapsed": false
   }
  },
  {
   "cell_type": "code",
   "execution_count": 2,
   "outputs": [],
   "source": [
    "video_filename = ''   ## TODO\n",
    "width = 800\n",
    "DOT_NUMBER = 100\n",
    "GREEN = ((29, 86, 6), (64, 255, 255))\n",
    "RED = ((139, 0, 0), (255, 160, 122))\n",
    "BLUE = ((110, 50, 50), (130, 255, 255))\n",
    "ORANGE = ((160, 100, 47), (179, 255, 255))\n",
    "YELLOW = ((10, 100, 100), (40, 255, 255))\n",
    "bottom_color, top_color = YELLOW\n",
    "if len(video_filename) == 0:\n",
    "    cam = cv2.VideoCapture(0)   # Default cam\n",
    "\n",
    "else:\n",
    "    cam = cv2.VideoCapture(video_filename)      # Read from the video file\n",
    "\n",
    "dots = deque(maxlen=DOT_NUMBER)\n",
    "\n",
    "cv2.namedWindow('Frame')\n",
    "cv2.namedWindow('Mask')\n",
    "\n",
    "while True:\n",
    "    ret, frame = cam.read()     # ret is a boolean variable that returns true if the frame is available.\n",
    "    if len(video_filename) > 0 and not ret: break   # EOF\n",
    "\n",
    "    frame = imutils.resize(frame, width=width)\n",
    "    hsv = cv2.GaussianBlur(frame, (25, 25), 0)\n",
    "    hvs = cv2.cvtColor(hsv, cv2.COLOR_BGR2HSV)\n",
    "\n",
    "    mask = cv2.inRange(hsv, bottom_color, top_color)\n",
    "\n",
    "    # mask = cv2.morphologyEx(mask, cv2.MORPH_OPEN, np.ones((3,3), np.uint8))   # Uses dilate and erode\n",
    "\n",
    "    mask = cv2.erode(mask, None, iterations=8)\n",
    "    mask = cv2.dilate(mask, None, iterations=8)\n",
    "\n",
    "    copy = mask.copy()\n",
    "\n",
    "    contours = cv2.findContours(copy, cv2.RETR_EXTERNAL, cv2.CHAIN_APPROX_SIMPLE) [-2]\n",
    "\n",
    "    center = None\n",
    "    if len(contours) > 0:\n",
    "        cmax = max(contours, key=cv2.contourArea)\n",
    "        for contour in contours:\n",
    "            (x, y), radius = cv2.minEnclosingCircle(contour)\n",
    "            moments = cv2.moments(cmax)\n",
    "            center = int(moments['m10'] / moments['m00']), int(moments['m01'] / moments['m00'])\n",
    "            if radius >= 30:\n",
    "                cv2.circle(frame, (int(x), int(y)),\n",
    "                           int(radius), (0, 0, 255), 4)\n",
    "            dots.appendleft(center)\n",
    "            for i in range(1, len(dots)):\n",
    "                if dots[i] and dots[i - 1]:\n",
    "                    line_cons = 2\n",
    "                    cv2.line(frame, dots[i - 1], dots[i], (0, 255, 255), line_cons)\n",
    "                    \n",
    "    cv2.imshow('Frame', frame)\n",
    "    cv2.imshow('Mask', mask)\n",
    "\n",
    "    key = cv2.waitKey(5) & 0xFF\n",
    "    if key == 27 or key == ord('q'): break\n",
    "\n",
    "if cam.isOpened():\n",
    "    cam.release()\n",
    "cv2.destroyAllWindows()"
   ],
   "metadata": {
    "collapsed": false,
    "pycharm": {
     "name": "#%%\n"
    }
   }
  },
  {
   "cell_type": "markdown",
   "source": [
    "# 3."
   ],
   "metadata": {
    "collapsed": false
   }
  }
 ],
 "metadata": {
  "kernelspec": {
   "display_name": "Python 3",
   "language": "python",
   "name": "python3"
  },
  "language_info": {
   "codemirror_mode": {
    "name": "ipython",
    "version": 2
   },
   "file_extension": ".py",
   "mimetype": "text/x-python",
   "name": "python",
   "nbconvert_exporter": "python",
   "pygments_lexer": "ipython2",
   "version": "2.7.6"
  }
 },
 "nbformat": 4,
 "nbformat_minor": 0
}