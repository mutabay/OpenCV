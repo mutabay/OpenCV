{
 "cells": [
  {
   "cell_type": "markdown",
   "source": [
    "# 2. OPENCV Face Detection\n",
    "\n",
    "![](../images/salt-pepper.png)\n",
    "\n",
    "CascadeClassified filters are one of the most widely used tool for recognizing face and body parts.\n",
    "[Data Link](https://github.com/opencv/opencv/tree/master/data/haarcascades)"
   ],
   "metadata": {
    "collapsed": false
   }
  },
  {
   "cell_type": "markdown",
   "source": [
    "## Packages"
   ],
   "metadata": {
    "collapsed": false
   }
  },
  {
   "cell_type": "code",
   "execution_count": 3,
   "metadata": {
    "collapsed": true
   },
   "outputs": [],
   "source": [
    "import cv2\n",
    "from utils import *"
   ]
  },
  {
   "cell_type": "markdown",
   "source": [
    "### I.  Frontal Face Recognition"
   ],
   "metadata": {
    "collapsed": false
   }
  },
  {
   "cell_type": "code",
   "execution_count": 4,
   "outputs": [],
   "source": [
    "    # load pre-trained classifiers\n",
    "faceCascade = cv2.CascadeClassifier(\n",
    "    'haarcascades/haarcascade_frontalface_default.xml'\n",
    ")"
   ],
   "metadata": {
    "collapsed": false,
    "pycharm": {
     "name": "#%%\n"
    }
   }
  },
  {
   "cell_type": "code",
   "execution_count": 13,
   "outputs": [],
   "source": [
    "cam = cv2.VideoCapture(0)       # Capturing default cam\n",
    "while True:\n",
    "    ret, frame = cam.read()     # Read the frame\n",
    "    frame = cv2.flip(frame, 1)   # Use -1 it if cam shows reversely - Use 1 for mirroring\n",
    "    gray_frame = cv2.cvtColor(frame, cv2.COLOR_BGR2GRAY)    # For getting better result, it will be much make sense to give gray scaled frame.\n",
    "    faces = faceCascade.detectMultiScale(\n",
    "        gray_frame,\n",
    "        scaleFactor=1.2,\n",
    "        minNeighbors=5,\n",
    "        minSize=(20, 20)\n",
    "    )\n",
    "    for (x, y, wide, height) in faces:\n",
    "        cv2.rectangle(frame, (x, y), (x + wide, y + height),color= (255, 0, 0), thickness=2)\n",
    "\n",
    "    cv2.imshow('frame', frame)\n",
    "    key = cv2.waitKey(5) & 0xFF\n",
    "    if key == 27 or key == ord('q'): break\n",
    "cam.release()\n",
    "cv2.destroyAllWindows()"
   ],
   "metadata": {
    "collapsed": false,
    "pycharm": {
     "name": "#%%\n"
    }
   }
  },
  {
   "cell_type": "markdown",
   "source": [],
   "metadata": {
    "collapsed": false
   }
  },
  {
   "cell_type": "code",
   "execution_count": null,
   "outputs": [],
   "source": [],
   "metadata": {
    "collapsed": false,
    "pycharm": {
     "name": "#%%\n"
    }
   }
  }
 ],
 "metadata": {
  "kernelspec": {
   "display_name": "Python 3",
   "language": "python",
   "name": "python3"
  },
  "language_info": {
   "codemirror_mode": {
    "name": "ipython",
    "version": 2
   },
   "file_extension": ".py",
   "mimetype": "text/x-python",
   "name": "python",
   "nbconvert_exporter": "python",
   "pygments_lexer": "ipython2",
   "version": "2.7.6"
  }
 },
 "nbformat": 4,
 "nbformat_minor": 0
}